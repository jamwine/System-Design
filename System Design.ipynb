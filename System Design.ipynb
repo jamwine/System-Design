{
 "cells": [
  {
   "cell_type": "markdown",
   "metadata": {},
   "source": [
    "# Systems Design Fundamentals"
   ]
  },
  {
   "cell_type": "markdown",
   "metadata": {
    "heading_collapsed": true
   },
   "source": [
    "## Client - Server Model"
   ]
  },
  {
   "cell_type": "markdown",
   "metadata": {
    "hidden": true
   },
   "source": [
    "The paradigm by which modern systems are designed, which consists of clients requesting data or service from servers and servers providing data or service to clients.\n",
    "\n",
    "### Client\n",
    "A machine or process that requests data or service from a server. \n",
    "\n",
    "### Server\n",
    "A machine or process that provides data or service for a client, usually by listening for incoming network calls.\n",
    "\n",
    "> Note that a single machine or piece of software can be both a client and a server at the same time. For instance, a single machine could act as a server for end users and as a client for a database.\n",
    "\n",
    "### IP Address\n",
    "\n",
    "An address given to each machine connected to the public internet. IPv4 addresses consist of four numbers separated by dots: **a.b.c.d** where all four numbers are between 0 and 255. Special values include:\n",
    "\n",
    "* **127.0.0.1**: Your own local machine, also referred to as **localhost**.\n",
    "* **192.168.x.y**: Your private network. For instance, your machine and all machines on your private wifi network will usually have the **192.168** prefix.\n",
    "\n",
    "### Port\n",
    "\n",
    "In order for multiple programs to listen for new network connections on the same machine without colliding, they pick a port to listen on. A port is an integer between 0 and 65,535 ($2^{16}$ ports total).\n",
    "\n",
    "Typically, ports **0-1023** are reserved for **system ports** (also called **well-known ports**) and shouldn't be used by user-level processes. Certain ports have pre-defined uses, and although you usually won't be required to have them memorized, they can sometimes come in handy. Below are some examples:\n",
    "\n",
    "* 22: Secure Shell\n",
    "* 53: DNS lookup\n",
    "* 80: HTTP\n",
    "* 443: HTTPS\n",
    "\n",
    "### DNS\n",
    "\n",
    "Short for **Domain Name System**, it describes the entities and protocols involved in the translation from domain names to IP Addresses. Typically, machines make a DNS query to a well known entity which is responsible for returning the IP address (or multiple ones) of the requested domain name in the response."
   ]
  },
  {
   "cell_type": "markdown",
   "metadata": {
    "heading_collapsed": true
   },
   "source": [
    "## Network Protocols"
   ]
  },
  {
   "cell_type": "markdown",
   "metadata": {
    "hidden": true
   },
   "source": [
    "### IP\n",
    "\n",
    "Stands for **Internet Protocol**. This network protocol outlines how almost all machine-to-machine communications should happen in the world. Other protocols like **TCP**, **UDP** and **HTTP** are built on top of IP.\n",
    "\n",
    "### TCP\n",
    "\n",
    "Network protocol built on top of the Internet Protocol (IP). Allows for ordered, reliable data delivery between machines over the public internet by creating a connection.\n",
    "\n",
    "The **Transmission Control Protocol** (**TCP**) is usually implemented in the kernel, which exposes **sockets** to applications that they can use to stream data through an open connection.\n",
    "\n",
    "### HTTP\n",
    "\n",
    "The **HyperText Transfer Protocol** is a very common network protocol implemented on top of TCP. Clients make HTTP requests, and servers respond with a response.\n",
    "\n",
    "Requests typically have the following schema:\n",
    "\n",
    ">* **host**: string (example: algoexpert.io)\n",
    ">* **port**: integer (example: 80 or 443)\n",
    ">* **method**: string (example: GET, PUT, POST, DELETE, OPTIONS or PATCH)\n",
    ">* **headers**: pair list (example: \"Content-Type\" => \"application/json\")\n",
    ">* **body**: opaque sequence of bytes\n",
    "\n",
    "Responses typically have the following schema:\n",
    ">* **status code**: integer (example: 200, 401)\n",
    ">* **headers**: pair list (example: \"Content-Length\" -> 1238)\n",
    ">* **body**: opaque sequence of bytes\n",
    "\n",
    "### IP Packet\n",
    "\n",
    "Sometimes more broadly referred to as just a (network) **packet**, an IP packet is effectively the smallest unit used to describe data being sent over IP, aside from bytes. An IP packet consists of:\n",
    "\n",
    "* an **IP header**, which contains the source and destination IP addresses as well as other information related to the network\n",
    "* a **payload**, which is just the data being sent over the network"
   ]
  },
  {
   "cell_type": "markdown",
   "metadata": {
    "heading_collapsed": true
   },
   "source": [
    "## Storage"
   ]
  },
  {
   "cell_type": "markdown",
   "metadata": {
    "hidden": true
   },
   "source": [
    "### Databases\n",
    "\n",
    "Databases are programs that either use disk or memory to do 2 core things: **record** data and **query** data. In general, they are: themselves servers that are long lived and interact with the rest of our application through network calls, with protocols on top of TCP or even HTTP.\n",
    "\n",
    "Some databases only keep records in memory, and the users of such databases are aware of the fact that those records may be lost forever if the machine or process dies.\n",
    "\n",
    "For the most part though, databases need persistence of those records, and thus cannot use memory. This means that we have to write our data to disk. Anything written to disk will remain through power loss or network partitions, so that's what is used to keep permanent records.\n",
    "\n",
    "Since machines die often in a large scale system, special disk partitions or volumes are used by the database processes, and those volumes can get recovered even if the machine were to go down permanently.\n",
    "\n",
    "### Disk\n",
    "\n",
    "Usually refers to either **HDD** (**hard-disk drive**) or **SSD** (**solid-state drive**). Data written to disk will persist through power failures and general machine crashes. Disk is also referred to as **non-volatile storage**.\n",
    "\n",
    "SSD is far faster than HDD but also far more expensive from a financial point of view. Because of that, HDD will typically be used for data that's rarely accessed or updated, but that's stored for a long time, and SSD will be used for data that's frequently accessed and updated.\n",
    "\n",
    "### Memory\n",
    "\n",
    "Short for **Random Access Memory** (**RAM**). Data stored in memory will be lost when the process that has written that data dies.\n",
    "\n",
    "### Persistent Storage\n",
    "\n",
    "Usually refers to disk, but in general it is any form of storage that persists if the process in charge of managing it dies."
   ]
  },
  {
   "cell_type": "markdown",
   "metadata": {
    "heading_collapsed": true
   },
   "source": [
    "## Latency And Throughput"
   ]
  },
  {
   "cell_type": "markdown",
   "metadata": {
    "hidden": true
   },
   "source": [
    "### Latency\n",
    "\n",
    "The time it takes for a certain operation to complete in a system. Most often this measure is a time duration, like milliseconds or seconds. You should know these orders of magnitude:\n",
    "\n",
    "* **Reading 1 MB from RAM**: 250 μs (0.25 ms)\n",
    "* **Reading 1 MB from SSD**: 1,000 μs (1 ms)\n",
    "* **Transfer 1 MB over Network**: 10,000 ps (10 ms)\n",
    "* **Reading 1MB from HDD**: 20,000 μs (20 ms)\n",
    "* **Inter-Continental Round Trip**: 150,000 μs (150 ms)\n",
    "\n",
    "### Throughput\n",
    "\n",
    "The number of operations that a system can handle properly per time unit. For instance the throughput of a server can often be measured in requests per second (RPS or QPS)."
   ]
  },
  {
   "cell_type": "markdown",
   "metadata": {
    "heading_collapsed": true
   },
   "source": [
    "## Availability"
   ]
  },
  {
   "cell_type": "markdown",
   "metadata": {
    "heading_collapsed": true,
    "hidden": true
   },
   "source": [
    "### Process\n",
    "\n",
    "A program that is currently running on a machine. We should always assume that any process may get terminated at any time in a sufficiently large system.\n",
    "\n",
    "### Node/ Instance/ Host\n",
    "\n",
    "These three terms refer to the same thing most of the time: a **virtual or physical machine** on which the developer runs processes. Sometimes the word server also refers to this same concept.\n",
    "\n",
    "### Availability\n",
    "\n",
    "The odds of a particular server or service being up and running at any point in time, usually measured in percentages. A server that has 99% availability will be operational 999% of the time (this would be described as having two nines of availability).\n",
    "\n",
    "### High Availability\n",
    "\n",
    "Used to describe systems that have particularly high levels of availability, typically 5 nines or more: sometimes abbreviated **HA**.\n",
    "\n",
    "### Nines\n",
    "\n",
    "Typically refers to percentages of **uptime**. For example, 5 nines of availability means an uptime of 99.999% of the time. Below are the downtimes expected per year depending on those 9s\n",
    "\n",
    ">* **99% (two 9s)**: 87.7 hours\n",
    ">* **99.9% (three 9s)**: 8.8 hours\n",
    ">* **99.99%**: 52.6 minutes\n",
    ">* **99.999%**: 5.3 minutes\n",
    "\n",
    "### Redundancy\n",
    "\n",
    "The process of replicating parts of a system in an effort to make it more reliable.\n",
    "\n",
    "### SLA\n",
    "\n",
    "Short for **service-level agreement**, an SLA is a collection of guarantees given to a customer by a service provider. SLAs typically make guarantees on a system's availability, amongst other things. SLAS are made up of one or multiple SLOs.\n",
    "\n",
    "### SLO\n",
    "\n",
    "Short for **service-level objective**, an SLO is a guarantee given to a customer by a service provider. SLOs typically make guarantees on a system's availability, amongst other things. SLOs constitute an SLA."
   ]
  },
  {
   "cell_type": "markdown",
   "metadata": {
    "heading_collapsed": true
   },
   "source": [
    "## Caching"
   ]
  },
  {
   "cell_type": "markdown",
   "metadata": {
    "hidden": true
   },
   "source": [
    "### Cache\n",
    "\n",
    "A piece of hardware or software that stores data, typically meant to retrieve that data faster than otherwise.\n",
    "\n",
    "Caches are often used to store responses to network requests as well as results of computationally-long operations.\n",
    "\n",
    "Note that data in a cache can become **stale** if the main source of truth for that data (ie, the main database behind the cache) gets updated and the cache doesn't.\n",
    "\n",
    "### Cache Hit\n",
    "\n",
    "When requested data is found in a cache.\n",
    "\n",
    "### Cache Miss\n",
    "\n",
    "When requested data could have been found in a cache but isn't. This is typically used to refer to a negative consequence of a system failure or of a poor design choice. For example:\n",
    "\n",
    "If a server goes down, our load balancer will have to forward requests to a new server, which will result in cache misses.\n",
    "\n",
    "### Cache Eviction Policy\n",
    "\n",
    "The policy by which values get evicted or removed from a cache. Popular cache eviction policies include **LRU** (**least-recently used**), **FIFO** (**first in first out**), and **LFU** (**least-frequently used****)\n",
    "\n",
    "### Content Delivery Network\n",
    "\n",
    "A **CDN** is a third-party service that acts like a cache for our servers. Sometimes, web applications can be slow for users in a particular region if our servers are located only in another region. A CDN has servers all around the world, meaning that the latency to a CDN's servers will almost always be far better than the latency to our servers. A CDN's servers are often referred to as **PoPs** (**Points of Presence**). Two of the most popular CDNs are **Cloudflare** and **Google Cloud CDN**."
   ]
  },
  {
   "cell_type": "markdown",
   "metadata": {
    "heading_collapsed": true
   },
   "source": [
    "## Proxies"
   ]
  },
  {
   "cell_type": "markdown",
   "metadata": {
    "hidden": true
   },
   "source": [
    "### Forward Proxy\n",
    "\n",
    "A server that sits between a client and servers and acts on behalf of the client, typically used to mask the client's identity (IP address). Note that forward proxies are often referred to as just proxies.\n",
    "\n",
    "### Reverse Proxy\n",
    "\n",
    "A server that sits between clients and servers and acts on behalf of the servers, typically used for logging, load balancing, or caching.\n",
    "\n",
    "### Nginx\n",
    "\n",
    "Pronounced \"engine X\", **Nginx** is a very popular webserver that's often used as a **reverse proxy** and **load balancer**."
   ]
  },
  {
   "cell_type": "markdown",
   "metadata": {},
   "source": [
    "## Load Balancers"
   ]
  },
  {
   "cell_type": "markdown",
   "metadata": {},
   "source": [
    "### Load Balancer\n",
    "\n",
    "A type of reverse proxy that distributes traffic across servers. Load balancers can be found in many parts of a system, from the DNS layer all the way to the database layer.\n",
    "\n",
    "### Server-Selection Strategy\n",
    "\n",
    "How a load balancer chooses servers when distributing traffic amongst multiple servers. Commonly used strategies include **round robin, random selection, performance-based selection** (choosing the server with the best performance metrics, like the fastest response time or the least amount of traffic), and **IP-based routing**.\n",
    "\n",
    "### Hot Spot\n",
    "\n",
    "When distributing a workload across a set of servers, that workload might be spread unevenly. This can happen if our **sharding key** or our **hashing function** are suboptimal, or if our workload is naturally skewed: some servers will receive a lot more traffic than others, thus creating a **hot spot**."
   ]
  },
  {
   "cell_type": "markdown",
   "metadata": {},
   "source": [
    "## Hashing"
   ]
  },
  {
   "cell_type": "markdown",
   "metadata": {},
   "source": [
    "### Hashing Function\n",
    "\n",
    "A function that takes in a specific data type (such as a string or an identifier) and outputs a number. Different inputs may have the same output, but a good hashing function attempts to minimize those **hashing collisions** (which is equivalent to maximizing uniformity).\n",
    "\n",
    "### Consistent Hashing\n",
    "\n",
    "A type of hashing that minimizes the number of keys that need to be remapped when a hash table gets resized. It's often used by load balancers to distribute traffic to servers; it minimizes the number of requests that get forwarded to different servers when new servers are added or when existing servers are brought down.\n",
    "\n",
    "### Rendezvous Hashing\n",
    "\n",
    "A type of hashing also coined **highest random weight hashing**. Allows for minimal re-distribution of mappings when a server goes down.\n",
    "\n",
    "### SHA\n",
    "\n",
    "Short for **Secure Hash Algorithms**, the SHA is a collection of cryptographic hash functions used in the industry. SHA-3 is a popular choice to use in a system."
   ]
  },
  {
   "cell_type": "markdown",
   "metadata": {},
   "source": []
  },
  {
   "cell_type": "markdown",
   "metadata": {},
   "source": []
  },
  {
   "cell_type": "markdown",
   "metadata": {},
   "source": [
    "# Key Characteristics of Distributed Systems\n",
    "Key characteristics of a distributed system include Scalability, Reliability, Availability, Efficiency, and Manageability.\n",
    "\n",
    "<img src='imgs/distributed_system.png' alt='vshs' width=500 height=500>\n",
    "\n",
    "## Scalability\n",
    "**Scalability** is the capability of a system, process, or a network to grow and manage increased demand. Any distributed system that can continuously evolve in order to support the growing amount of work is considered to be scalable.\n",
    "\n",
    "A system may have to scale because of many reasons like increased data volume or increased amount of work, e.g., number of transactions. A scalable system would like to achieve this scaling without performance loss.\n",
    "\n",
    "Generally, the performance of a system, although designed (or claimed) to be scalable, declines with the system size due to the management or environment cost. For instance, network speed may become slower because machines tend to be far apart from one another. More generally, some tasks may not be distributed, either because of their inherent atomic nature or because of some flaw in the system design. At some point, such tasks would limit the speed-up obtained by distribution. A scalable architecture avoids this situation and attempts to balance the load on all the participating nodes evenly.\n",
    "\n",
    "### Horizontal vs. Vertical Scaling\n",
    "**Horizontal scaling** means that we scale by adding more servers into our pool of resources whereas **Vertical scaling** means that we scale by adding more power (CPU, RAM, Storage, etc.) to an existing server.\n",
    "\n",
    "With horizontal-scaling it is often easier to scale dynamically by adding more machines into the existing pool; Vertical-scaling is usually limited to the capacity of a single server and scaling beyond that capacity often involves downtime and comes with an upper limit.\n",
    "\n",
    "Good examples of horizontal scaling are Cassandra and MongoDB as they both provide an easy way to scale horizontally by adding more machines to meet growing needs. Similarly, a good example of vertical scaling is MySQL as it allows for an easy way to scale vertically by switching from smaller to bigger machines. However, this process often involves downtime.\n",
    "\n",
    "<img src='imgs/vshs.png' alt='vshs' width=400 height=400>\n",
    "\n",
    "## Reliability\n",
    "**Reliability** is the probability a system will fail in a given period. In simple terms, a distributed system is considered reliable if it keeps delivering its services even when one or several of its software or hardware components fail. Reliability represents one of the main characteristics of any distributed system, since in such systems any failing machine can always be replaced by another healthy one, ensuring the completion of the requested task.\n",
    "\n",
    "Take the example of a large electronic commerce store (like Amazon), where one of the primary requirement is that any user transaction should never be canceled due to a failure of the machine that is running that transaction. For instance, if a user has added an item to their shopping cart, the system is expected not to lose it. A reliable distributed system achieves this through redundancy of both the software components and data. If the server carrying the user’s shopping cart fails, another server that has the exact replica of the shopping cart should replace it.\n",
    "\n",
    "Obviously, redundancy has a cost and a reliable system has to pay that to achieve such resilience for services by eliminating every single point of failure.\n",
    "\n",
    "\n",
    "## Availability\n",
    "**Availability** is the time a system remains operational to perform its required function in a specific period. It is a simple measure of the percentage of time that a system, service, or a machine remains operational under normal conditions. An aircraft that can be flown for many hours a month without much downtime can be said to have a high availability. Availability takes into account maintainability, repair time, spares availability, and other logistics considerations. If an aircraft is down for maintenance, it is considered not available during that time.\n",
    "\n",
    "Reliability is availability over time considering the full range of possible real-world conditions that can occur. An aircraft that can make it through any possible weather safely is more reliable than one that has vulnerabilities to possible conditions.\n",
    "\n",
    "### Reliability Vs. Availability\n",
    "If a system is reliable, it is available. However, if it is available, it is not necessarily reliable. In other words, high reliability contributes to high availability, but it is possible to achieve a high availability even with an unreliable product by minimizing repair time and ensuring that spares are always available when they are needed. Let’s take the example of an online retail store that has 99.99% availability for the first two years after its launch. However, the system was launched without any information security testing. The customers are happy with the system, but they don’t realize that it isn’t very reliable as it is vulnerable to likely risks. In the third year, the system experiences a series of information security incidents that suddenly result in extremely low availability for extended periods of time. This results in reputational and financial damage to the customers.\n",
    "\n",
    "\n",
    "## Efficiency \n",
    "To understand how to measure the **efficiency** of a distributed system, let’s assume we have an operation that runs in a distributed manner and delivers a set of items as result. Two standard measures of its efficiency are the **response time** (or **latency**) that denotes the delay to obtain the first item and the **throughput** (or **bandwidth**) which denotes the number of items delivered in a given time unit (e.g., a second). The two measures correspond to the following unit costs:\n",
    "- Number of messages globally sent by the nodes of the system regardless of the message size.\n",
    "- Size of messages representing the volume of data exchanges.\n",
    "\n",
    "The complexity of operations supported by distributed data structures (e.g., searching for a specific key in a distributed index) can be characterized as a function of one of these cost units. Generally speaking, the analysis of a distributed structure in terms of ‘number of messages’ is over-simplistic. It ignores the impact of many aspects, including the network topology, the network load, and its variation, the possible heterogeneity of the software and hardware components involved in data processing and routing, etc. However, it is quite difficult to develop a precise cost model that would accurately take into account all these performance factors; therefore, we have to live with rough but robust estimates of the system behavior.\n",
    "\n",
    "## Serviceability or Manageability\n",
    "Another important consideration while designing a distributed system is how easy it is to operate and maintain. **Serviceability** or **manageability** is the simplicity and speed with which a system can be repaired or maintained; if the time to fix a failed system increases, then availability will decrease. Things to consider for manageability are the ease of diagnosing and understanding problems when they occur, ease of making updates or modifications, and how simple the system is to operate (i.e., does it routinely operate without failure or exceptions?).\n",
    "\n",
    "Early detection of faults can decrease or avoid system downtime. For example, some enterprise systems can automatically call a service center (without human intervention) when the system experiences a system fault."
   ]
  },
  {
   "cell_type": "markdown",
   "metadata": {},
   "source": [
    "# Load Balancing\n",
    "\n",
    "**Load Balancer (LB)** is another critical component of any distributed system. It helps to spread the traffic across a cluster of servers to improve responsiveness and availability of applications, websites or databases. LB also keeps track of the status of all the resources while distributing requests. If a server is not available to take new requests or is not responding or has elevated error rate, LB will stop sending traffic to such a server.\n",
    "\n",
    "Typically a load balancer sits between the client and the server accepting incoming network and application traffic and distributing the traffic across multiple backend servers using various algorithms. By balancing application requests across multiple servers, a load balancer reduces individual server load and prevents any one application server from becoming a single point of failure, thus improving overall application availability and responsiveness.\n",
    "\n",
    "<img src='imgs/lb1.png' alt='lb1' width=600 height=400>\n",
    "\n",
    "To utilize full scalability and redundancy, we can try to balance the load at each layer of the system. We can add LBs at three places:\n",
    "- Between the user and the web server\n",
    "- Between web servers and an internal platform layer, like application servers or cache servers\n",
    "- Between internal platform layer and database.\n",
    "\n",
    "<img src='imgs/lb2.png' alt='lb2' width=700 height=400>\n",
    "\n",
    "\n",
    "## Benefits of Load Balancing\n",
    "* Users experience faster, uninterrupted service. Users won’t have to wait for a single struggling server to finish its previous tasks. Instead, their requests are immediately passed on to a more readily available resource.\n",
    "* Service providers experience less downtime and higher throughput. Even a full server failure won’t affect the end user experience as the load balancer will simply route around it to a healthy server.\n",
    "* Load balancing makes it easier for system administrators to handle incoming requests while decreasing wait time for users.\n",
    "* Smart load balancers provide benefits like predictive analytics that determine traffic bottlenecks before they happen. As a result, the smart load balancer gives an organization actionable insights. These are key to automation and can help drive business decisions.\n",
    "* System administrators experience fewer failed or stressed components. Instead of a single device performing a lot of work, load balancing has several devices perform a little bit of work.\n",
    "\n",
    "## Load Balancing Algorithms\n",
    "#### How does the load balancer choose the backend server?\n",
    "Load balancers consider two factors before forwarding a request to a backend server. They will first ensure that the server they choose is actually responding appropriately to requests and then use a pre-configured algorithm to select one from the set of healthy servers. We will discuss these algorithms shortly.\n",
    "\n",
    "#### Health Checks\n",
    "Load balancers should only forward traffic to `healthy` backend servers. To monitor the health of a backend server, **health checks** regularly attempt to connect to backend servers to ensure that servers are listening. If a server fails a health check, it is automatically removed from the pool, and traffic will not be forwarded to it until it responds to the health checks again.\n",
    "\n",
    "#### Load balancing methods\n",
    "There is a variety of load balancing methods, which use different algorithms for different needs.\n",
    "\n",
    "* **Least Connection Method** — This method directs traffic to the server with the fewest active connections. This approach is quite useful when there are a large number of persistent client connections which are unevenly distributed between the servers.\n",
    "\n",
    "\n",
    "* **Least Response Time Method** — This algorithm directs traffic to the server with the fewest active connections and the lowest average response time.\n",
    "\n",
    "\n",
    "* **Least Bandwidth Method** - This method selects the server that is currently serving the least amount of traffic measured in megabits per second (Mbps).\n",
    "\n",
    "\n",
    "* **Round Robin Method** — This method cycles through a list of servers and sends each new request to the next server. When it reaches the end of the list, it starts over at the beginning. It is most useful when the servers are of equal specification and there are not many persistent connections.\n",
    "\n",
    "\n",
    "* **Weighted Round Robin Method** — The weighted round-robin scheduling is designed to better handle servers with different processing capacities. Each server is assigned a weight (an integer value that indicates the processing capacity). Servers with higher weights receive new connections before those with less weights and servers with higher weights get more connections than those with less weights.\n",
    "\n",
    "\n",
    "* **IP Hash** — Under this method, a hash of the IP address of the client is calculated to redirect the request to a server.\n",
    "\n",
    "## Redundant Load Balancers\n",
    "The load balancer can be a single point of failure; to overcome this, a second load balancer can be connected to the first to form a cluster. Each LB monitors the health of the other and, since both of them are equally capable of serving traffic and failure detection, in the event the main load balancer fails, the second load balancer takes over.\n",
    "\n",
    "## Load Balancing and SSL\n",
    "**Secure Sockets Layer (SSL)** is the standard security technology for establishing an encrypted link between a web server and a browser. SSL traffic is often decrypted at the load balancer. When a load balancer decrypts traffic before passing the request on, it is called **SSL termination**. The load balancer saves the web servers from having to expend the extra CPU cycles required for decryption. This improves application performance.\n",
    "\n",
    "However, SSL termination comes with a security concern. The traffic between the load balancers and the web servers is no longer encrypted. This can expose the application to possible attack. However, the risk is lessened when the load balancer is within the same data center as the web servers.\n",
    "\n",
    "Another solution is the **SSL pass-through**. The load balancer merely passes an encrypted request to the web server. Then the web server does the decryption. This uses more CPU power on the web server. But organizations that require extra security may find the extra overhead worthwhile.\n",
    "\n",
    "## Load Balancing and Security\n",
    "Load Balancing plays an important security role as computing moves evermore to the cloud. The off-loading function of a load balancer defends an organization against **distributed denial-of-service (DDoS) attacks**. It does this by shifting attack traffic from the corporate server to a public cloud provider. DDoS attacks represent a large portion of cybercrime as their number and size continues to rise. Hardware defense, such as a perimeter firewall, can be costly and require significant maintenance. Software load balancers with cloud offload provide efficient and cost-effective protection.\n",
    "\n",
    "## DNS Load Balancing vs Hardware Load Balancing\n",
    "**DNS load balancing** is a software-defined approach to load balancing where client requests to a domain within the **Domain Name System (DNS)** are distributed across different server machines. The DNS system sends a different version of the list of IP addresses each time it responds to a new client request using the round-robin method, therefore distributing the DNS requests evenly to different servers to handle the overall load. This in turn provides DNS load balancing failover protection through automatic removal of non-responsive servers.\n",
    "\n",
    "DNS load balancing differs from hardware load balancing in a few instances, although both can be a very effective solution for distributing traffic. One main advantage of DNS level load balancing is the scalability and price. A DNS load balancer distributes traffic to several different IP addresses, whereas the hardware solution uses a single IP address and splits traffic leading to it on multiple servers. As for pricing, hardware load balancers require a large upfront cost whereas DNS load balancers can be scaled as needed.\n",
    "\n",
    "\n",
    "### Readings\n",
    "* https://avinetworks.com/what-is-load-balancing/\n",
    "* https://lethain.com/introduction-to-architecting-systems-for-scale/\n",
    "* https://en.wikipedia.org/wiki/Load_balancing_(computing)"
   ]
  },
  {
   "cell_type": "markdown",
   "metadata": {},
   "source": [
    "# Proxies\n",
    "A **proxy server** is an intermediate server between the client and the back-end server. Clients connect to proxy servers to make a request for a service like a web page, file, connection, etc. In short, a proxy server is a piece of software or hardware that acts as an intermediary for requests from clients seeking resources from other servers.\n",
    "\n",
    "Typically, proxies are used to filter requests, log requests, or sometimes transform requests (by adding/removing headers, encrypting/decrypting, or compressing a resource). Another advantage of a proxy server is that its cache can serve a lot of requests. If multiple clients access a particular resource, the proxy server can cache it and serve it to all the clients without going to the remote server.\n",
    "\n",
    "\n",
    "## Proxy Server Types\n",
    "Proxies can reside on the client’s local server or anywhere between the client and the remote servers. Here are a few famous types of proxy servers:\n",
    "\n",
    "### Open Proxy \n",
    "An **open proxy** is a proxy server that is accessible by any Internet user. Generally, a proxy server only allows users within a network group (i.e. a closed proxy) to store and forward Internet services such as DNS or web pages to reduce and control the bandwidth used by the group. With an open proxy, however, any user on the Internet is able to use this forwarding service. There two famous open proxy types:\n",
    "- **Anonymous Proxy** - Thіs proxy reveаls іts іdentіty аs а server but does not dіsclose the іnіtіаl IP аddress. Though thіs proxy server cаn be dіscovered eаsіly іt cаn be benefіcіаl for some users аs іt hіdes their IP аddress.\n",
    "- **Trаnspаrent Proxy** – Thіs proxy server аgаіn іdentіfіes іtself, аnd wіth the support of HTTP heаders, the fіrst IP аddress cаn be vіewed. The mаіn benefіt of usіng thіs sort of server іs іts аbіlіty to cаche the websіtes.\n",
    "\n",
    "### Reverse Proxy\n",
    "A **reverse proxy** (or **surrogate**) is a proxy server that appears to clients to be an ordinary server. Reverse proxies forward requests to one or more ordinary servers that handle the request. The response from the proxy server is returned as if it came directly from the original server, leaving the client with no knowledge of the original server.retrieves resources on behalf of a client from one or more servers. These resources are then returned to the client, appearing as if they originated from the proxy server itself.\n",
    "\n",
    "### Readings\n",
    "- https://en.wikipedia.org/wiki/Proxy_server\n",
    "- https://en.wikipedia.org/wiki/Open_proxy\n",
    "- https://en.wikipedia.org/wiki/Reverse_proxy"
   ]
  },
  {
   "cell_type": "markdown",
   "metadata": {},
   "source": [
    "# Consistent Hashing\n",
    "\n",
    "**Distributed Hash Table (DHT)** is one of the fundamental components used in distributed scalable systems. Hash Tables need a key, a value, and a hash function where hash function maps the key to a location where the value is stored.\n",
    "\n",
    "$$index = hash\\_function(key)$$\n",
    "\n",
    "Suppose we are designing a distributed caching system. Given `n` cache servers, an intuitive hash function would be `key % n`. It is simple and commonly used. But it has two major drawbacks:\n",
    "\n",
    "- It is NOT horizontally scalable. Whenever a new cache host is added to the system, all existing mappings are broken. It will be a pain point in maintenance if the caching system contains lots of data. Practically, it becomes difficult to schedule a downtime to update all caching mappings.\n",
    "\n",
    "\n",
    "- It may NOT be load balanced, especially for non-uniformly distributed data. In practice, it can be easily assumed that the data will not be distributed uniformly. For the caching system, it translates into some caches becoming hot and saturated while the others idle and are almost empty.\n",
    "\n",
    "\n",
    "In such situations, consistent hashing is a good way to improve the caching system.\n",
    "\n",
    "**Consistent hashing** is a very useful strategy for distributed caching systems and DHTs. It allows us to distribute data across a cluster in such a way that will minimize reorganization when nodes are added or removed. Hence, the caching system will be easier to scale up or scale down.\n",
    "\n",
    "In Consistent Hashing, when the hash table is resized (e.g. a new cache host is added to the system), only `k/n` keys need to be remapped where `k` is the `total number of keys` and `n` is the `total number of servers`. Recall that in a caching system using the `mod` as the hash function, all keys need to be remapped.\n",
    "\n",
    "In Consistent Hashing, objects are mapped to the same host if possible. When a host is removed from the system, the objects on that host are shared by other hosts; when a new host is added, it takes its share from a few hosts without touching other’s shares.\n",
    "\n",
    "### Working\n",
    "As a typical hash function, consistent hashing maps a key to an integer. Suppose the output of the hash function is in the range of [0, 256]. Imagine that the integers in the range are placed on a ring such that the values are wrapped around.\n",
    "\n",
    "1. Given a list of cache servers, hash them to integers in the range.\n",
    "2. To map a key to a server\n",
    " * Hash it to a single integer.\n",
    " * Move clockwise on the ring until finding the first cache it encounters, that cache is the one that contains the key. \n",
    "\n",
    "<table>\n",
    "<tr>\n",
    "<td><img src='imgs/h1.png' alt='h1' width=300 height=400 align='left'></td>\n",
    "<td><img src='imgs/h2.png' alt='h2' width=300 height=400 align='middle'></td>\n",
    "<td><img src='imgs/h3.png' alt='h3' width=300 height=400 align='right'></td>\n",
    "<td><img src='imgs/h4.png' alt='h4' width=300 height=400 align='right'></td>\n",
    "<td><img src='imgs/h5.png' alt='h5' width=300 height=400 align='right'></td>\n",
    "</tr></table>\n",
    "\n",
    "\n",
    "- To add a new server, say D, keys that were originally residing at C will be split. Some of them will be shifted to D, while other keys will not be touched.\n",
    "\n",
    "\n",
    "- To remove a cache or, if a cache fails, say A, all keys that were originally mapped to A will fall into B, and only those keys need to be moved to B; other keys will not be affected.\n",
    "\n",
    "For load balancing, the real data is essentially `randomly distributed` and thus may not be uniform. It may make the keys on caches unbalanced. To handle this issue, we add `virtual replicas` for caches. Instead of mapping each cache to a single point on the ring, we map it to multiple points on the ring, i.e. **replicas**. This way, each cache is associated with multiple portions of the ring. \n",
    "\n",
    "If the hash function *mixes well*, **as the number of replicas increases, the keys will be more balanced**."
   ]
  },
  {
   "cell_type": "code",
   "execution_count": null,
   "metadata": {},
   "outputs": [],
   "source": []
  },
  {
   "cell_type": "code",
   "execution_count": null,
   "metadata": {},
   "outputs": [],
   "source": []
  },
  {
   "cell_type": "code",
   "execution_count": null,
   "metadata": {},
   "outputs": [],
   "source": []
  }
 ],
 "metadata": {
  "kernelspec": {
   "display_name": "Python 3",
   "language": "python",
   "name": "python3"
  },
  "language_info": {
   "codemirror_mode": {
    "name": "ipython",
    "version": 3
   },
   "file_extension": ".py",
   "mimetype": "text/x-python",
   "name": "python",
   "nbconvert_exporter": "python",
   "pygments_lexer": "ipython3",
   "version": "3.7.3"
  }
 },
 "nbformat": 4,
 "nbformat_minor": 4
}
